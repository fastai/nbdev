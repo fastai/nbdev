{
 "cells": [
  {
   "attachments": {},
   "cell_type": "markdown",
   "metadata": {},
   "source": [
    "# config\n",
    "\n",
    "> Configuring nbdev and bootstrapping notebook export\n",
    "\n",
    "- order: 1"
   ]
  },
  {
   "cell_type": "code",
   "execution_count": null,
   "metadata": {},
   "outputs": [],
   "source": [
    "#|default_exp config"
   ]
  },
  {
   "cell_type": "code",
   "execution_count": null,
   "metadata": {},
   "outputs": [],
   "source": [
    "#|export\n",
    "_doc_ = \"\"\"Read and write nbdev's `settings.ini` file.\n",
    "`get_config` is the main function for reading settings.\"\"\""
   ]
  },
  {
   "cell_type": "code",
   "execution_count": null,
   "metadata": {},
   "outputs": [],
   "source": [
    "#|export\n",
    "from datetime import datetime\n",
    "from fastcore.docments import *\n",
    "from fastcore.utils import *\n",
    "from fastcore.meta import *\n",
    "from fastcore.script import *\n",
    "from fastcore.style import *\n",
    "from fastcore.xdg import *\n",
    "\n",
    "import ast\n",
    "from IPython.display import Markdown\n",
    "from execnb.nbio import read_nb,NbCell\n",
    "from urllib.error import HTTPError"
   ]
  },
  {
   "cell_type": "code",
   "execution_count": null,
   "metadata": {},
   "outputs": [],
   "source": [
    "#|hide\n",
    "from fastcore.test import *\n",
    "from nbdev.maker import make_code_cells\n",
    "import tempfile"
   ]
  },
  {
   "attachments": {},
   "cell_type": "markdown",
   "metadata": {},
   "source": [
    "## Configuring nbdev"
   ]
  },
  {
   "attachments": {},
   "cell_type": "markdown",
   "metadata": {},
   "source": [
    "nbdev is heavily customizeable, thanks to the configuration system defined in this module. There are 2 ways to interact with nbdev's config:\n",
    "\n",
    "- **In the terminal:** `nbdev_create_config` creates a config file (if you're starting a new project use `nbdev_new` instead)\n",
    "- **In your library:** `get_config` returns a `fastcore.foundation.Config` object.\n",
    "\n",
    "Read on for more about how these work."
   ]
  },
  {
   "attachments": {},
   "cell_type": "markdown",
   "metadata": {},
   "source": [
    "### Creating a config file -"
   ]
  },
  {
   "cell_type": "code",
   "execution_count": null,
   "metadata": {},
   "outputs": [],
   "source": [
    "#|export\n",
    "_nbdev_home_dir = 'nbdev' # sub-directory of xdg base dir\n",
    "_nbdev_cfg_name = 'settings.ini'"
   ]
  },
  {
   "cell_type": "code",
   "execution_count": null,
   "metadata": {},
   "outputs": [],
   "source": [
    "#|export\n",
    "def _git_repo():\n",
    "    try: return repo_details(run('git config --get remote.origin.url'))[1]\n",
    "    except OSError: return"
   ]
  },
  {
   "cell_type": "code",
   "execution_count": null,
   "metadata": {},
   "outputs": [],
   "source": [
    "#|hide\n",
    "test_eq(_git_repo(), 'nbdev')\n",
    "with tempfile.TemporaryDirectory() as d, working_directory(d): test_is(_git_repo(), None)"
   ]
  },
  {
   "cell_type": "code",
   "execution_count": null,
   "metadata": {},
   "outputs": [],
   "source": [
    "#|export\n",
    "\n",
    "# When adding a named default to the list below, be sure that that name\n",
    "# is also added to one of the sections in `_nbdev_cfg_sections` as well,\n",
    "# or it won't get written by `nbdev_create_config`:\n",
    "def _apply_defaults(\n",
    "    cfg,\n",
    "    lib_name='%(repo)s', # Package name\n",
    "    git_url='https://github.com/%(user)s/%(repo)s', # Repo URL\n",
    "    custom_sidebar:bool_arg=False, # Use a custom sidebar.yml?\n",
    "    nbs_path:Path='nbs', # Path to notebooks\n",
    "    lib_path:Path=None, # Path to package root (default: `repo` with `-` replaced by `_`)\n",
    "    doc_path:Path='_docs', # Path to rendered docs\n",
    "    tst_flags='notest', # Test flags\n",
    "    version='0.0.1', # Version of this release\n",
    "    doc_host='https://%(user)s.github.io',  # Hostname for docs\n",
    "    doc_baseurl='/%(repo)s',  # Base URL for docs\n",
    "    keywords='nbdev jupyter notebook python', # Package keywords\n",
    "    license='apache2', # License for the package\n",
    "    copyright:str=None, # Copyright for the package, defaults to '`current_year` onwards, `author`'\n",
    "    status='3', # Development status PyPI classifier\n",
    "    min_python='3.7', # Minimum Python version PyPI classifier\n",
    "    audience='Developers', # Intended audience PyPI classifier\n",
    "    language='English', # Language PyPI classifier\n",
    "    recursive:bool_arg=True, # Include subfolders in notebook globs?\n",
    "    black_formatting:bool_arg=False, # Format libraries with black?\n",
    "    readme_nb='index.ipynb', # Notebook to export as repo readme\n",
    "    title='%(lib_name)s', # Quarto website title\n",
    "    allowed_metadata_keys='', # Preserve the list of keys in the main notebook metadata\n",
    "    allowed_cell_metadata_keys='', # Preserve the list of keys in cell level metadata\n",
    "    jupyter_hooks:bool_arg=False, # Run Jupyter hooks?\n",
    "    clean_ids:bool_arg=True, # Remove ids from plaintext reprs?\n",
    "    clear_all:bool_arg=False, # Remove all cell metadata and cell outputs?\n",
    "    put_version_in_init:bool_arg=True, # Add the version to the main __init__.py in nbdev_export\n",
    "):\n",
    "    \"Apply default settings where missing in `cfg`.\"\n",
    "    if getattr(cfg,'repo',None) is None:\n",
    "        cfg.repo = _git_repo()\n",
    "        if cfg.repo is None:\n",
    "            _parent = Path.cwd()\n",
    "            cfg.repo = _parent.parent.name if _parent.name=='nbs' else _parent.name\n",
    "    if lib_path is None: lib_path = cfg.repo.replace('-', '_')\n",
    "    if copyright is None: copyright = f\"{datetime.now().year} onwards, %(author)s\"\n",
    "    for k,v in locals().items():\n",
    "        if k.startswith('_') or k == 'cfg' or cfg.get(k) is not None: continue\n",
    "        cfg[k] = v\n",
    "    return cfg"
   ]
  },
  {
   "cell_type": "code",
   "execution_count": null,
   "metadata": {},
   "outputs": [],
   "source": [
    "#|export\n",
    "def _get_info(owner, repo, default_branch='main', default_kw='nbdev'):\n",
    "    from ghapi.all import GhApi\n",
    "    api = GhApi(owner=owner, repo=repo, token=os.getenv('GITHUB_TOKEN'))\n",
    "    \n",
    "    try: r = api.repos.get()\n",
    "    except HTTPError:\n",
    "        msg= [f\"\"\"Could not access repo: {owner}/{repo} to find your default branch - `{default_branch}` assumed.\n",
    "Edit `settings.ini` if this is incorrect.\n",
    "In the future, you can allow nbdev to see private repos by setting the environment variable GITHUB_TOKEN as described here:\n",
    "https://nbdev.fast.ai/api/release.html#setup\"\"\"]\n",
    "        print(''.join(msg))\n",
    "        return default_branch,default_kw,''\n",
    "    \n",
    "    return r.default_branch, default_kw if not getattr(r, 'topics', []) else ' '.join(r.topics), r.description"
   ]
  },
  {
   "cell_type": "code",
   "execution_count": null,
   "metadata": {},
   "outputs": [],
   "source": [
    "#|hide\n",
    "if os.getenv('GITHUB_ACTIONS') != 'true': # GITHUB_TOKEN in actions has limited scope.\n",
    "    _branch, _tags, _descrip = _get_info('fastai', 'fastai')\n",
    "    test_eq(_tags, 'colab deep-learning fastai gpu machine-learning notebooks python pytorch')\n",
    "    test_eq(_branch, 'master')\n",
    "    test_eq(_descrip, 'The fastai deep learning library')"
   ]
  },
  {
   "cell_type": "code",
   "execution_count": null,
   "metadata": {},
   "outputs": [],
   "source": [
    "#|export\n",
    "def _fetch_from_git(raise_err=False):\n",
    "    \"Get information for settings.ini from the user.\"\n",
    "    res={}\n",
    "    try:\n",
    "        url = run('git config --get remote.origin.url')\n",
    "        res['user'],res['repo'] = repo_details(url)\n",
    "        res['branch'],res['keywords'],desc = _get_info(owner=res['user'], repo=res['repo'])\n",
    "        if desc: res['description'] = desc\n",
    "        res['author'] = run('git config --get user.name').strip() # below two lines attempt to pull from global user config\n",
    "        res['author_email'] = run('git config --get user.email').strip()\n",
    "    except OSError as e:\n",
    "        if raise_err: raise(e)\n",
    "    else: res['lib_name'] = res['repo'].replace('-','_')\n",
    "    return res"
   ]
  },
  {
   "cell_type": "code",
   "execution_count": null,
   "metadata": {},
   "outputs": [],
   "source": [
    "#|hide\n",
    "#test_eq(_fetch_from_git(raise_err=True)['lib_name'], 'nbdev')"
   ]
  },
  {
   "cell_type": "code",
   "execution_count": null,
   "metadata": {},
   "outputs": [],
   "source": [
    "#|export\n",
    "def _prompt_user(cfg, inferred):\n",
    "    \"Let user input values not in `cfg` or `inferred`.\"\n",
    "    res = cfg.copy()\n",
    "    for k,v in cfg.items():\n",
    "        inf = inferred.get(k,None)\n",
    "        msg = S.light_blue(k) + ' = '\n",
    "        if v is None:\n",
    "            if inf is None: res[k] = input(f'# Please enter a value for {k}\\n'+msg)\n",
    "            else:\n",
    "                res[k] = inf\n",
    "                print(msg+res[k]+' # Automatically inferred from git')\n",
    "    return res"
   ]
  },
  {
   "cell_type": "code",
   "execution_count": null,
   "metadata": {},
   "outputs": [],
   "source": [
    "#|hide\n",
    "# `repo` not printed - already exists in `cfg`\n",
    "# `user` printed - in `inferred` and not `cfg`\n",
    "test_stdout(lambda: _prompt_user({'user':None,'repo':'nbdev'},{'user':'fastai'}),\n",
    "            f\"{S.light_blue('user')} = fastai # Automatically inferred from git\")"
   ]
  },
  {
   "cell_type": "code",
   "execution_count": null,
   "metadata": {},
   "outputs": [],
   "source": [
    "#|export\n",
    "def _cfg2txt(cfg, head, sections, tail=''):\n",
    "    \"Render `cfg` with commented sections.\"\n",
    "    nm = cfg.d.name\n",
    "    res = f'[{nm}]\\n'+head\n",
    "    for t,ks in sections.items():\n",
    "        res += f'### {t} ###\\n'\n",
    "        for k in ks.split(): res += f\"{k} = {cfg._cfg.get(nm, k, raw=True)}\\n\" # TODO: add `raw` to `Config.get`\n",
    "        res += '\\n'\n",
    "    res += tail\n",
    "    return res.strip()"
   ]
  },
  {
   "cell_type": "code",
   "execution_count": null,
   "metadata": {},
   "outputs": [],
   "source": [
    "#|hide\n",
    "d = {'user': 'fastai', 'repo': 'nbdev', 'doc_path': '_docs'}\n",
    "c = Config('.', 'test_settings.ini', d, save=False)\n",
    "txt = '''[DEFAULT]\n",
    "# This is an nbdev settings file.\n",
    "\n",
    "### Repo ###\n",
    "user = fastai\n",
    "repo = nbdev\n",
    "\n",
    "### nbdev ###\n",
    "doc_path = _docs'''\n",
    "res = _cfg2txt(c, '# This is an nbdev settings file.\\n\\n', {'Repo': 'user repo', 'nbdev': 'doc_path'})\n",
    "test_eq(res, txt)"
   ]
  },
  {
   "cell_type": "code",
   "execution_count": null,
   "metadata": {},
   "outputs": [],
   "source": [
    "#|export\n",
    "_nbdev_cfg_head = '''# All sections below are required unless otherwise specified.\n",
    "# See https://github.com/fastai/nbdev/blob/master/settings.ini for examples.\n",
    "\n",
    "'''\n",
    "_nbdev_cfg_sections = {'Python library': 'repo lib_name version min_python license black_formatting',\n",
    "                       'nbdev': 'doc_path lib_path nbs_path recursive tst_flags put_version_in_init',\n",
    "                       'Docs': 'branch custom_sidebar doc_host doc_baseurl git_url title',\n",
    "                       'PyPI': 'audience author author_email copyright description keywords language status user'}\n",
    "_nbdev_cfg_tail = '''### Optional ###\n",
    "# requirements = fastcore pandas\n",
    "# dev_requirements = \n",
    "# console_scripts =\n",
    "# conda_user = \n",
    "# package_data = \n",
    "'''"
   ]
  },
  {
   "cell_type": "code",
   "execution_count": null,
   "metadata": {},
   "outputs": [],
   "source": [
    "#|export\n",
    "@call_parse\n",
    "@delegates(_apply_defaults, but='cfg')\n",
    "def nbdev_create_config(\n",
    "    repo:str=None, # Repo name\n",
    "    branch:str=None, # Repo default branch\n",
    "    user:str=None, # Repo username\n",
    "    author:str=None, # Package author's name\n",
    "    author_email:str=None, # Package author's email address\n",
    "    description:str=None, # Short summary of the package\n",
    "    path:str='.', # Path to create config file\n",
    "    cfg_name:str=_nbdev_cfg_name, # Name of config file to create\n",
    "    **kwargs\n",
    "):\n",
    "    \"Create a config file.\"\n",
    "    req = {k:v for k,v in locals().items() if k not in ('path','cfg_name','kwargs')}\n",
    "    inf = _fetch_from_git()\n",
    "    d = _prompt_user(req, inf)\n",
    "    cfg = Config(path, cfg_name, d, save=False)\n",
    "    if cfg.config_file.exists(): warn(f'Config file already exists: {cfg.config_file} and will be used as a base')\n",
    "    cfg = _apply_defaults(cfg, **kwargs)\n",
    "    txt = _cfg2txt(cfg, _nbdev_cfg_head, _nbdev_cfg_sections, _nbdev_cfg_tail)\n",
    "    cfg.config_file.write_text(txt)\n",
    "    cfg_fn = Path(path)/cfg_name\n",
    "    print(f'{cfg_fn} created.')"
   ]
  },
  {
   "attachments": {},
   "cell_type": "markdown",
   "metadata": {},
   "source": [
    "The table above also serves as a full reference of nbdev's settings (excluding the `path` and `cfg_name` parameters which decide where the config file is saved). For more about PyPI classifiers, see [_Classifiers_](https://pypi.org/classifiers/).\n",
    "\n",
    "You can create a config file by passing all of the required settings via the command line, as well as any optional settings you'd like to override, for example:\n",
    "\n",
    "```sh\n",
    "nbdev_create_config --repo nbdev --user fastai --author fastai \\\n",
    "                    --author_email info@fast.ai --description 'A test project'\n",
    "```\n",
    "\n",
    "If you don't provide required settings from the command line, we'll try to to infer them from git and GitHub. Finally, you'll be asked to manually input any required settings that we couldn't automatically fill in."
   ]
  },
  {
   "attachments": {},
   "cell_type": "markdown",
   "metadata": {},
   "source": [
    "### Reading a config file -"
   ]
  },
  {
   "cell_type": "code",
   "execution_count": null,
   "metadata": {},
   "outputs": [],
   "source": [
    "#|export\n",
    "def _nbdev_config_file(cfg_name=_nbdev_cfg_name, path=None):\n",
    "    cfg_path = path = Path.cwd() if path is None else Path(path)\n",
    "    while cfg_path != cfg_path.parent and not (cfg_path/cfg_name).exists(): cfg_path = cfg_path.parent\n",
    "    if not (cfg_path/cfg_name).exists(): cfg_path = path\n",
    "    return cfg_path/cfg_name"
   ]
  },
  {
   "cell_type": "code",
   "execution_count": null,
   "metadata": {},
   "outputs": [],
   "source": [
    "#|hide\n",
    "test_eq(_nbdev_config_file(), Path.cwd().parent.parent/'settings.ini')"
   ]
  },
  {
   "cell_type": "code",
   "execution_count": null,
   "metadata": {},
   "outputs": [],
   "source": [
    "#|export\n",
    "def _xdg_config_paths(cfg_name=_nbdev_cfg_name):\n",
    "    xdg_config_paths = reversed([xdg_config_home()]+xdg_config_dirs())\n",
    "    return [o/_nbdev_home_dir/cfg_name for o in xdg_config_paths]"
   ]
  },
  {
   "cell_type": "code",
   "execution_count": null,
   "metadata": {},
   "outputs": [],
   "source": [
    "#|export\n",
    "def _type(t): return bool if t==bool_arg else t\n",
    "_types = {k:_type(v['anno']) for k,v in docments(_apply_defaults,full=True,returns=False).items() if k != 'cfg'}\n",
    "\n",
    "@functools.lru_cache(maxsize=None)\n",
    "def get_config(cfg_name=_nbdev_cfg_name, path=None):\n",
    "    \"Return nbdev config.\"\n",
    "    cfg_file = _nbdev_config_file(cfg_name, path)\n",
    "    extra_files = _xdg_config_paths(cfg_name)\n",
    "    cfg = Config(cfg_file.parent, cfg_file.name, extra_files=extra_files, types=_types)\n",
    "    return _apply_defaults(cfg)"
   ]
  },
  {
   "attachments": {},
   "cell_type": "markdown",
   "metadata": {},
   "source": [
    "Searches up from `path` until `cfg_name` is found. User settings are loaded from `~/.config/nbdev/{cfg_name}`. Unspecified optional settings return defaults.\n",
    "\n",
    "See `nbdev_create_config` for a full reference of nbdev's settings."
   ]
  },
  {
   "cell_type": "code",
   "execution_count": null,
   "metadata": {},
   "outputs": [],
   "source": [
    "#|hide\n",
    "try: _get_config,get_config = get_config,get_config.__wrapped__ # Bypass cache during dev and tests\n",
    "except AttributeError: pass"
   ]
  },
  {
   "cell_type": "code",
   "execution_count": null,
   "metadata": {},
   "outputs": [],
   "source": [
    "cfg = get_config()"
   ]
  },
  {
   "attachments": {},
   "cell_type": "markdown",
   "metadata": {},
   "source": [
    "`cfg` is a fastcore [`Config`](https://fastcore.fast.ai/foundation.html#config) object, so you can access keys as attributes:"
   ]
  },
  {
   "cell_type": "code",
   "execution_count": null,
   "metadata": {},
   "outputs": [],
   "source": [
    "p = Path.cwd().parent.parent\n",
    "test_eq(cfg.lib_name, 'nbdev')\n",
    "test_eq(cfg.git_url, 'https://github.com/fastai/nbdev')"
   ]
  },
  {
   "attachments": {},
   "cell_type": "markdown",
   "metadata": {},
   "source": [
    "Its own path and parent are attributes too:"
   ]
  },
  {
   "cell_type": "code",
   "execution_count": null,
   "metadata": {},
   "outputs": [],
   "source": [
    "test_eq(cfg.config_path, p)\n",
    "test_eq(cfg.config_file, p/'settings.ini')"
   ]
  },
  {
   "attachments": {},
   "cell_type": "markdown",
   "metadata": {},
   "source": [
    "Paths are relative to the project:"
   ]
  },
  {
   "cell_type": "code",
   "execution_count": null,
   "metadata": {},
   "outputs": [],
   "source": [
    "test_eq(cfg.doc_path, p/'_docs')\n",
    "test_eq(cfg.lib_path, p/'nbdev')\n",
    "test_eq(cfg.nbs_path, p/'nbs')"
   ]
  },
  {
   "attachments": {},
   "cell_type": "markdown",
   "metadata": {},
   "source": [
    "It automatically returns defaults for keys not specified in the config file. Here we create an empty config file and access `lib_path` and `copyright` even though they weren't explicitly defined:"
   ]
  },
  {
   "cell_type": "code",
   "execution_count": null,
   "metadata": {},
   "outputs": [],
   "source": [
    "with tempfile.TemporaryDirectory() as d, working_directory(d):\n",
    "    Config('.', 'test_settings.ini', {'repo': 'my-project', 'author': 'fastai', 'nbs_path': 'nbs'});\n",
    "    cfg = get_config('test_settings.ini', '.')\n",
    "    test_eq(cfg.repo, 'my-project')\n",
    "    test_eq(cfg.lib_path.name, 'my_project')\n"
   ]
  },
  {
   "attachments": {},
   "cell_type": "markdown",
   "metadata": {},
   "source": [
    "In fact, you can return a default config even if you don't have a settings file. This is to support certain nbdev commands work outside of nbdev repos:"
   ]
  },
  {
   "cell_type": "code",
   "execution_count": null,
   "metadata": {},
   "outputs": [],
   "source": [
    "cfg = get_config('test_settings.ini', '.')\n",
    "test_eq(cfg.lib_path, Path('nbdev').resolve())\n",
    "test_eq(cfg.nbs_path, Path('nbs').resolve())"
   ]
  },
  {
   "attachments": {},
   "cell_type": "markdown",
   "metadata": {},
   "source": [
    "You can customise nbdev for all repositories for your user with a `~/.config/nbdev/settings.ini` file (by default, although we follow the broader [XDG specification](https://specifications.freedesktop.org/basedir-spec/basedir-spec-latest.html)). For example, you could globally disable nbdev's Jupyter hooks by creating a user settings file with `jupyter_hooks = False`."
   ]
  },
  {
   "cell_type": "code",
   "execution_count": null,
   "metadata": {},
   "outputs": [],
   "source": [
    "#|export\n",
    "def config_key(c, default=None, path=True, missing_ok=None):\n",
    "    \"Deprecated: use `get_config().get` or `get_config().path` instead.\"\n",
    "    warn(\"`config_key` is deprecated. Use `get_config().get` or `get_config().path` instead.\", DeprecationWarning)\n",
    "    return get_config().path(c, default) if path else get_config().get(c, default)"
   ]
  },
  {
   "attachments": {},
   "cell_type": "markdown",
   "metadata": {},
   "source": [
    "## Helpers"
   ]
  },
  {
   "cell_type": "code",
   "execution_count": null,
   "metadata": {},
   "outputs": [],
   "source": [
    "#|export\n",
    "def create_output(txt, mime):\n",
    "    \"Add a cell output containing `txt` of the `mime` text MIME sub-type\"\n",
    "    return [{\"data\": { f\"text/{mime}\": str(txt).splitlines(True) },\n",
    "             \"execution_count\": 1, \"metadata\": {}, \"output_type\": \"execute_result\"}]"
   ]
  },
  {
   "cell_type": "code",
   "execution_count": null,
   "metadata": {},
   "outputs": [],
   "source": [
    "#|export\n",
    "def show_src(src, lang='python'): return Markdown(f'```{lang}\\n{src}\\n```')"
   ]
  },
  {
   "cell_type": "code",
   "execution_count": null,
   "metadata": {},
   "outputs": [
    {
     "data": {
      "text/markdown": [
       "```python\n",
       "print(create_output('text', 'text/plain'))\n",
       "```"
      ],
      "text/plain": [
       "<IPython.core.display.Markdown object>"
      ]
     },
     "execution_count": null,
     "metadata": {},
     "output_type": "execute_result"
    }
   ],
   "source": [
    "show_src(\"print(create_output('text', 'text/plain'))\")"
   ]
  },
  {
   "attachments": {},
   "cell_type": "markdown",
   "metadata": {},
   "source": [
    "##  Exporting a basic module"
   ]
  },
  {
   "cell_type": "code",
   "execution_count": null,
   "metadata": {},
   "outputs": [],
   "source": [
    "#|export\n",
    "_re_version = re.compile(r'^__version__\\s*=.*$', re.MULTILINE)\n",
    "_init = '__init__.py'\n",
    "\n",
    "def update_version(path=None):\n",
    "    \"Add or update `__version__` in the main `__init__.py` of the library.\"\n",
    "    path = Path(path or get_config().lib_path)\n",
    "    fname = path/_init\n",
    "    if not fname.exists(): fname.touch()\n",
    "    version = f'__version__ = \"{get_config().version}\"'\n",
    "    code = fname.read_text()\n",
    "    if _re_version.search(code) is None: code = version + \"\\n\" + code\n",
    "    else: code = _re_version.sub(version, code)\n",
    "    fname.write_text(code)\n",
    "\n",
    "def _has_py(fs): return any(1 for f in fs if f.endswith('.py'))\n",
    "\n",
    "def add_init(path=None):\n",
    "    \"Add `__init__.py` in all subdirs of `path` containing python files if it's not there already.\"\n",
    "    # we add the lowest-level `__init__.py` files first, which ensures _has_py succeeds for parent modules\n",
    "    path = Path(path or get_config().lib_path)\n",
    "    path.mkdir(exist_ok=True)\n",
    "    if not (path/_init).exists(): (path/_init).touch()\n",
    "    for r,ds,fs in os.walk(path, topdown=False):\n",
    "        r = Path(r)\n",
    "        subds = (os.listdir(r/d) for d in ds)\n",
    "        if _has_py(fs) or any(filter(_has_py, subds)) and not (r/_init).exists(): (r/_init).touch()\n",
    "    if get_config().get('put_version_in_init', True): update_version(path)"
   ]
  },
  {
   "attachments": {},
   "cell_type": "markdown",
   "metadata": {},
   "source": [
    "Python modules require a `__init.py__` file in all directories that are modules. We assume that all directories containing a python file (including in subdirectories of any depth) is a module, and therefore add a `__init__.py` to each."
   ]
  },
  {
   "cell_type": "code",
   "execution_count": null,
   "metadata": {},
   "outputs": [],
   "source": [
    "with tempfile.TemporaryDirectory() as d:\n",
    "    d = Path(d)\n",
    "    (d/'a/b').mkdir(parents=True)\n",
    "    (d/'a/b/f.py').touch()\n",
    "    (d/'a/c').mkdir()\n",
    "    add_init(d)\n",
    "    assert not (d/'a/c'/_init).exists(), \"Should not add init to dir without py file\"\n",
    "    for e in [d, d/'a', d/'a/b']: assert (e/_init).exists(),f\"Missing init in {e}\""
   ]
  },
  {
   "cell_type": "code",
   "execution_count": null,
   "metadata": {},
   "outputs": [],
   "source": [
    "#|export\n",
    "def write_cells(cells, hdr, file, offset=0):\n",
    "    \"\"\"Write `cells` to `file` along with header `hdr` starting at index `offset`\n",
    "       (mainly for nbdev internal use).  If `hdr` is not specified, neither the header\n",
    "       nor the cell index will be written\"\"\"\n",
    "    for cell in cells:\n",
    "        if cell.source.strip():\n",
    "            full_hdr = ''\n",
    "            if (hdr is not None):\n",
    "                full_hdr = f'{hdr} {cell.idx_+offset}\\n'\n",
    "             \n",
    "            file.write(f'\\n\\n{full_hdr}{cell.source}')"
   ]
  },
  {
   "cell_type": "markdown",
   "metadata": {},
   "source": [
    "If `hdr` has a real value, include it along with the offset index:"
   ]
  },
  {
   "cell_type": "code",
   "execution_count": null,
   "metadata": {},
   "outputs": [],
   "source": [
    "#|hide\n",
    "with tempfile.TemporaryFile(mode='w+t') as f:\n",
    "    c = make_code_cells(\"a = 'b'\\n_doc_ = 'hi'\")\n",
    "    write_cells(c, \"#\", f)\n",
    "\n",
    "    f.seek(0)\n",
    "    test_eq(f.read(), \"\\n\\n# 0\\na = 'b'\\n_doc_ = 'hi'\")"
   ]
  },
  {
   "cell_type": "markdown",
   "metadata": {},
   "source": [
    "If `hdr` doesn't have a real value, omit the line entirely:"
   ]
  },
  {
   "cell_type": "code",
   "execution_count": null,
   "metadata": {},
   "outputs": [],
   "source": [
    "#|hide\n",
    "with tempfile.TemporaryFile(mode='w+t') as f:\n",
    "    c = make_code_cells(\"a = 'b'\\n_doc_ = 'hi'\")\n",
    "    write_cells(c, None, f)\n",
    "\n",
    "    f.seek(0)\n",
    "    test_eq(f.read(), \"\\n\\na = 'b'\\n_doc_ = 'hi'\")"
   ]
  },
  {
   "cell_type": "code",
   "execution_count": null,
   "metadata": {},
   "outputs": [],
   "source": [
    "#|export\n",
    "def _basic_export_nb(fname, name, dest=None):\n",
    "    \"Basic exporter to bootstrap nbdev.\"\n",
    "    if dest is None: dest = get_config().lib_path\n",
    "    add_init()\n",
    "    fname,dest = Path(fname),Path(dest)\n",
    "    nb = read_nb(fname)\n",
    "\n",
    "    # grab the source from all the cells that have an `export` comment\n",
    "    cells = L(cell for cell in nb.cells if re.match(r'#\\s*\\|export', cell.source))\n",
    "\n",
    "    # find all the exported functions, to create `__all__`:\n",
    "    trees = cells.map(NbCell.parsed_).concat()\n",
    "    funcs = trees.filter(risinstance((ast.FunctionDef,ast.ClassDef))).attrgot('name')\n",
    "    exp_funcs = [f for f in funcs if f[0]!='_']\n",
    "\n",
    "    # write out the file\n",
    "    with (dest/name).open('w',encoding=\"utf-8\") as f:\n",
    "        f.write(f\"# %% auto 0\\n__all__ = {exp_funcs}\")\n",
    "        write_cells(cells, f\"# %% {fname.relpath(dest)}\", f)\n",
    "        f.write('\\n')"
   ]
  },
  {
   "attachments": {},
   "cell_type": "markdown",
   "metadata": {},
   "source": [
    "This is a simple exporter with just enough functionality to correctly export this notebook, in order to bootstrap the creation of nbdev itself."
   ]
  },
  {
   "cell_type": "code",
   "execution_count": null,
   "metadata": {},
   "outputs": [],
   "source": [
    "#|hide\n",
    "#| eval: false\n",
    "path = Path('../nbdev')\n",
    "(path/'config.py').unlink(missing_ok=True)\n",
    "\n",
    "_basic_export_nb(\"config.ipynb\", 'config.py')\n",
    "\n",
    "g = exec_new('from nbdev import config')\n",
    "assert g['config'].add_init\n",
    "assert 'add_init' in g['config'].__all__"
   ]
  },
  {
   "cell_type": "code",
   "execution_count": null,
   "metadata": {},
   "outputs": [],
   "source": []
  }
 ],
 "metadata": {
  "kernelspec": {
   "display_name": "python3",
   "language": "python",
   "name": "python3"
  }
 },
 "nbformat": 4,
 "nbformat_minor": 4
}
